{
 "cells": [
  {
   "cell_type": "code",
   "execution_count": 436,
   "id": "e12a3e51-e99f-4a1d-969e-680dd73843f7",
   "metadata": {},
   "outputs": [],
   "source": [
    "import pandas as pd\n",
    "from statsmodels.stats.proportion import proportions_ztest\n",
    "import numpy as np"
   ]
  },
  {
   "cell_type": "code",
   "execution_count": 438,
   "id": "1d8c0509-2106-4735-9261-17aca4d2d25d",
   "metadata": {},
   "outputs": [],
   "source": [
    "#What I am doing here is running an A/B test to determine whether one marketing campaign is more effective than another campaign. I will be using various standardized methodology to explore the impact (if any) of the new campaign, and I will explain each step as we go along."
   ]
  },
  {
   "cell_type": "code",
   "execution_count": 440,
   "id": "b19cd672-1d30-47ee-a264-592ee271c385",
   "metadata": {},
   "outputs": [],
   "source": [
    "#First, lets go ahead and import the necessary data! We will be using two data sets, Control Group (containing current marketing data and impact) and Test Group (containing data about the results of our new marketing campaign)."
   ]
  },
  {
   "cell_type": "code",
   "execution_count": 442,
   "id": "9bf8cdab-4cc5-4ecc-9a3b-52e72dd78557",
   "metadata": {},
   "outputs": [],
   "source": [
    "control_group = pd.read_csv('C:\\\\Users\\\\diamo\\\\datasets\\\\AB Portfolio Project Data\\\\control_group.csv', delimiter = ';')"
   ]
  },
  {
   "cell_type": "code",
   "execution_count": 444,
   "id": "f8a84dc5-8782-46fa-8228-a559559934aa",
   "metadata": {},
   "outputs": [],
   "source": [
    "test_group = pd.read_csv('C:\\\\Users\\\\diamo\\\\datasets\\\\AB Portfolio Project Data\\\\test_group.csv', delimiter = ';')"
   ]
  },
  {
   "cell_type": "code",
   "execution_count": 446,
   "id": "440efbc5-83eb-4217-a389-cc1567ff740b",
   "metadata": {},
   "outputs": [],
   "source": [
    "#Great! Now lets take a quick look at the first few rows of those datasets to get an idea of the data they contain."
   ]
  },
  {
   "cell_type": "code",
   "execution_count": 448,
   "id": "1c44ed3c-8643-4bce-aca4-2aa200b609bc",
   "metadata": {},
   "outputs": [
    {
     "name": "stdout",
     "output_type": "stream",
     "text": [
      "      Campaign Name       Date  Spend [USD]  # of Impressions     Reach  \\\n",
      "0  Control Campaign  1.08.2019         2280           82702.0   56930.0   \n",
      "1  Control Campaign  2.08.2019         1757          121040.0  102513.0   \n",
      "2  Control Campaign  3.08.2019         2343          131711.0  110862.0   \n",
      "3  Control Campaign  4.08.2019         1940           72878.0   61235.0   \n",
      "4  Control Campaign  5.08.2019         1835               NaN       NaN   \n",
      "\n",
      "   # of Website Clicks  # of Searches  # of View Content  # of Add to Cart  \\\n",
      "0               7016.0         2290.0             2159.0            1819.0   \n",
      "1               8110.0         2033.0             1841.0            1219.0   \n",
      "2               6508.0         1737.0             1549.0            1134.0   \n",
      "3               3065.0         1042.0              982.0            1183.0   \n",
      "4                  NaN            NaN                NaN               NaN   \n",
      "\n",
      "   # of Purchase  \n",
      "0          618.0  \n",
      "1          511.0  \n",
      "2          372.0  \n",
      "3          340.0  \n",
      "4            NaN  \n"
     ]
    }
   ],
   "source": [
    "print(control_group.head())"
   ]
  },
  {
   "cell_type": "code",
   "execution_count": 450,
   "id": "7749dcab-4ae8-45a9-a189-4f760aadcbac",
   "metadata": {},
   "outputs": [
    {
     "name": "stdout",
     "output_type": "stream",
     "text": [
      "   Campaign Name       Date  Spend [USD]  # of Impressions  Reach  \\\n",
      "0  Test Campaign  1.08.2019         3008             39550  35820   \n",
      "1  Test Campaign  2.08.2019         2542            100719  91236   \n",
      "2  Test Campaign  3.08.2019         2365             70263  45198   \n",
      "3  Test Campaign  4.08.2019         2710             78451  25937   \n",
      "4  Test Campaign  5.08.2019         2297            114295  95138   \n",
      "\n",
      "   # of Website Clicks  # of Searches  # of View Content  # of Add to Cart  \\\n",
      "0                 3038           1946               1069               894   \n",
      "1                 4657           2359               1548               879   \n",
      "2                 7885           2572               2367              1268   \n",
      "3                 4216           2216               1437               566   \n",
      "4                 5863           2106                858               956   \n",
      "\n",
      "   # of Purchase  \n",
      "0            255  \n",
      "1            677  \n",
      "2            578  \n",
      "3            340  \n",
      "4            768  \n"
     ]
    }
   ],
   "source": [
    "print(test_group.head())"
   ]
  },
  {
   "cell_type": "code",
   "execution_count": 452,
   "id": "6ff4bd54-10db-4ad8-ac7d-2410834d3847",
   "metadata": {},
   "outputs": [],
   "source": [
    "#Looks great. However, there are some NaN values in row 4 of control_group. Since this data set is only 30 rows, lets just take a look at the whole data set to see if there are any other NaN values in either data frame."
   ]
  },
  {
   "cell_type": "code",
   "execution_count": 454,
   "id": "c45d4f7d-81dd-403b-806a-69134ad70f64",
   "metadata": {},
   "outputs": [
    {
     "name": "stdout",
     "output_type": "stream",
     "text": [
      "       Campaign Name        Date  Spend [USD]  # of Impressions     Reach  \\\n",
      "0   Control Campaign   1.08.2019         2280           82702.0   56930.0   \n",
      "1   Control Campaign   2.08.2019         1757          121040.0  102513.0   \n",
      "2   Control Campaign   3.08.2019         2343          131711.0  110862.0   \n",
      "3   Control Campaign   4.08.2019         1940           72878.0   61235.0   \n",
      "4   Control Campaign   5.08.2019         1835               NaN       NaN   \n",
      "5   Control Campaign   6.08.2019         3083          109076.0   87998.0   \n",
      "6   Control Campaign   7.08.2019         2544          142123.0  127852.0   \n",
      "7   Control Campaign   8.08.2019         1900           90939.0   65217.0   \n",
      "8   Control Campaign   9.08.2019         2813          121332.0   94896.0   \n",
      "9   Control Campaign  10.08.2019         2149          117624.0   91257.0   \n",
      "10  Control Campaign  11.08.2019         2490          115247.0   95843.0   \n",
      "11  Control Campaign  12.08.2019         2319          116639.0  100189.0   \n",
      "12  Control Campaign  13.08.2019         2697           82847.0   68214.0   \n",
      "13  Control Campaign  14.08.2019         1875          145248.0  118632.0   \n",
      "14  Control Campaign  15.08.2019         2774          132845.0  102479.0   \n",
      "15  Control Campaign  16.08.2019         2024           71274.0   42859.0   \n",
      "16  Control Campaign  17.08.2019         2177          119612.0  106518.0   \n",
      "17  Control Campaign  18.08.2019         1876          108452.0   96518.0   \n",
      "18  Control Campaign  19.08.2019         2596          107890.0   81268.0   \n",
      "19  Control Campaign  20.08.2019         2675          113430.0   78625.0   \n",
      "20  Control Campaign  21.08.2019         1803           74654.0   59873.0   \n",
      "21  Control Campaign  22.08.2019         2939          105705.0   86218.0   \n",
      "22  Control Campaign  23.08.2019         2496          129880.0  109413.0   \n",
      "23  Control Campaign  24.08.2019         1892           72515.0   51987.0   \n",
      "24  Control Campaign  25.08.2019         1962          117006.0  100398.0   \n",
      "25  Control Campaign  26.08.2019         2233          124897.0   98432.0   \n",
      "26  Control Campaign  27.08.2019         2061          104678.0   91579.0   \n",
      "27  Control Campaign  28.08.2019         2421          141654.0  125874.0   \n",
      "28  Control Campaign  29.08.2019         2375           92029.0   74192.0   \n",
      "29  Control Campaign  30.08.2019         2324          111306.0   88632.0   \n",
      "\n",
      "    # of Website Clicks  # of Searches  # of View Content  # of Add to Cart  \\\n",
      "0                7016.0         2290.0             2159.0            1819.0   \n",
      "1                8110.0         2033.0             1841.0            1219.0   \n",
      "2                6508.0         1737.0             1549.0            1134.0   \n",
      "3                3065.0         1042.0              982.0            1183.0   \n",
      "4                   NaN            NaN                NaN               NaN   \n",
      "5                4028.0         1709.0             1249.0             784.0   \n",
      "6                2640.0         1388.0             1106.0            1166.0   \n",
      "7                7260.0         3047.0             2746.0             930.0   \n",
      "8                6198.0         2487.0             2179.0             645.0   \n",
      "9                2277.0         2475.0             1984.0            1629.0   \n",
      "10               8137.0         2941.0             2486.0            1887.0   \n",
      "11               2993.0         1397.0             1147.0            1439.0   \n",
      "12               6554.0         2390.0             1975.0            1794.0   \n",
      "13               4521.0         1209.0             1149.0            1339.0   \n",
      "14               4896.0         1179.0             1005.0            1641.0   \n",
      "15               5224.0         2427.0             2158.0            1613.0   \n",
      "16               6628.0         1756.0             1642.0             878.0   \n",
      "17               7253.0         2447.0             2115.0            1695.0   \n",
      "18               3706.0         2483.0             2098.0             908.0   \n",
      "19               2578.0         1001.0              848.0            1709.0   \n",
      "20               5691.0         2711.0             2496.0            1460.0   \n",
      "21               6843.0         3102.0             2988.0             819.0   \n",
      "22               4410.0         2896.0             2496.0            1913.0   \n",
      "23               4085.0         1274.0             1149.0            1146.0   \n",
      "24               4234.0         2423.0             2096.0             883.0   \n",
      "25               5435.0         2847.0             2421.0            1448.0   \n",
      "26               4941.0         3549.0             3249.0             980.0   \n",
      "27               6287.0         1672.0             1589.0            1711.0   \n",
      "28               8127.0         4891.0             4219.0            1486.0   \n",
      "29               4658.0         1615.0             1249.0             442.0   \n",
      "\n",
      "    # of Purchase  \n",
      "0           618.0  \n",
      "1           511.0  \n",
      "2           372.0  \n",
      "3           340.0  \n",
      "4             NaN  \n",
      "5           764.0  \n",
      "6           499.0  \n",
      "7           462.0  \n",
      "8           501.0  \n",
      "9           734.0  \n",
      "10          475.0  \n",
      "11          794.0  \n",
      "12          766.0  \n",
      "13          788.0  \n",
      "14          366.0  \n",
      "15          438.0  \n",
      "16          222.0  \n",
      "17          243.0  \n",
      "18          542.0  \n",
      "19          299.0  \n",
      "20          800.0  \n",
      "21          387.0  \n",
      "22          766.0  \n",
      "23          585.0  \n",
      "24          386.0  \n",
      "25          251.0  \n",
      "26          605.0  \n",
      "27          643.0  \n",
      "28          334.0  \n",
      "29          670.0  \n",
      "    Campaign Name        Date  Spend [USD]  # of Impressions   Reach  \\\n",
      "0   Test Campaign   1.08.2019         3008             39550   35820   \n",
      "1   Test Campaign   2.08.2019         2542            100719   91236   \n",
      "2   Test Campaign   3.08.2019         2365             70263   45198   \n",
      "3   Test Campaign   4.08.2019         2710             78451   25937   \n",
      "4   Test Campaign   5.08.2019         2297            114295   95138   \n",
      "5   Test Campaign   6.08.2019         2458             42684   31489   \n",
      "6   Test Campaign   7.08.2019         2838             53986   42148   \n",
      "7   Test Campaign   8.08.2019         2916             33669   20149   \n",
      "8   Test Campaign   9.08.2019         2652             45511   31598   \n",
      "9   Test Campaign  10.08.2019         2790             95054   79632   \n",
      "10  Test Campaign  11.08.2019         2420             83633   71286   \n",
      "11  Test Campaign  12.08.2019         2831            124591   10598   \n",
      "12  Test Campaign  13.08.2019         1972             65827   49531   \n",
      "13  Test Campaign  14.08.2019         2537             56304   25982   \n",
      "14  Test Campaign  15.08.2019         2516             94338   76219   \n",
      "15  Test Campaign  16.08.2019         3076            106584   81389   \n",
      "16  Test Campaign  17.08.2019         1968             95843   54389   \n",
      "17  Test Campaign  18.08.2019         1979             53632   43241   \n",
      "18  Test Campaign  19.08.2019         2626             22521   10698   \n",
      "19  Test Campaign  20.08.2019         2712             39470   31893   \n",
      "20  Test Campaign  21.08.2019         3112            133771  109834   \n",
      "21  Test Campaign  22.08.2019         2899             34752   27932   \n",
      "22  Test Campaign  23.08.2019         2407             60286   49329   \n",
      "23  Test Campaign  24.08.2019         2078             36650   30489   \n",
      "24  Test Campaign  25.08.2019         2928            120576  105978   \n",
      "25  Test Campaign  26.08.2019         2311             80841   61589   \n",
      "26  Test Campaign  27.08.2019         2915            111469   92159   \n",
      "27  Test Campaign  28.08.2019         2247             54627   41267   \n",
      "28  Test Campaign  29.08.2019         2805             67444   43219   \n",
      "29  Test Campaign  30.08.2019         1977            120203   89380   \n",
      "\n",
      "    # of Website Clicks  # of Searches  # of View Content  # of Add to Cart  \\\n",
      "0                  3038           1946               1069               894   \n",
      "1                  4657           2359               1548               879   \n",
      "2                  7885           2572               2367              1268   \n",
      "3                  4216           2216               1437               566   \n",
      "4                  5863           2106                858               956   \n",
      "5                  7488           1854               1073               882   \n",
      "6                  4221           2733               2182              1301   \n",
      "7                  7184           2867               2194              1240   \n",
      "8                  8259           2899               2761              1200   \n",
      "9                  8125           2312               1804               424   \n",
      "10                 3750           2893               2617              1075   \n",
      "11                 8264           2081               1992              1382   \n",
      "12                 7568           2213               2058              1391   \n",
      "13                 3993           1979               1059               779   \n",
      "14                 4993           2537               1609              1090   \n",
      "15                 6800           2661               2594              1059   \n",
      "16                 7910           1995               1576               383   \n",
      "17                 6909           2824               2522               461   \n",
      "18                 7617           2924               2801               788   \n",
      "19                 6050           2061               1894              1047   \n",
      "20                 5471           1995               1868               278   \n",
      "21                 4431           1983               1131               367   \n",
      "22                 5077           2592               2004               632   \n",
      "23                 7156           2687               2427               327   \n",
      "24                 3596           2937               2551              1228   \n",
      "25                 3820           2037               1046               346   \n",
      "26                 6435           2976               2552               992   \n",
      "27                 8144           2432               1281              1009   \n",
      "28                 7651           1920               1240              1168   \n",
      "29                 4399           2978               1625              1034   \n",
      "\n",
      "    # of Purchase  \n",
      "0             255  \n",
      "1             677  \n",
      "2             578  \n",
      "3             340  \n",
      "4             768  \n",
      "5             488  \n",
      "6             890  \n",
      "7             431  \n",
      "8             845  \n",
      "9             275  \n",
      "10            668  \n",
      "11            709  \n",
      "12            812  \n",
      "13            340  \n",
      "14            398  \n",
      "15            487  \n",
      "16            238  \n",
      "17            257  \n",
      "18            512  \n",
      "19            730  \n",
      "20            245  \n",
      "21            276  \n",
      "22            473  \n",
      "23            269  \n",
      "24            651  \n",
      "25            284  \n",
      "26            771  \n",
      "27            721  \n",
      "28            677  \n",
      "29            572  \n"
     ]
    }
   ],
   "source": [
    "print(control_group)\n",
    "print(test_group)"
   ]
  },
  {
   "cell_type": "code",
   "execution_count": 456,
   "id": "4e4a15ac-d9cc-4d68-9114-b1dcf8662c5d",
   "metadata": {},
   "outputs": [],
   "source": [
    "#Fantastic. Looks like we just have the NaN values in row 4 of control_group.  There are several ways to handle NaN values, but for this data, it makes the most sense to fill those NaN values with the average value for each column, because that should give a good representation of what those values could be.\n",
    "#Before I replace the NaN values with the average values, I am also going to clean the data a little bit so it is easier to read."
   ]
  },
  {
   "cell_type": "code",
   "execution_count": 458,
   "id": "75694ea5-9264-4571-ac3d-4ed5a5910017",
   "metadata": {},
   "outputs": [],
   "source": [
    "control_group.columns = control_group.columns.str.replace('# of ', '')\n",
    "test_group.columns = test_group.columns.str.replace('# of ', '')"
   ]
  },
  {
   "cell_type": "code",
   "execution_count": 460,
   "id": "8136c2b6-ec56-442c-bc06-fe6ee934c06e",
   "metadata": {},
   "outputs": [],
   "source": [
    "#This just gets rid of '# of' in each column's name. Now to replace the NaN values in row 4."
   ]
  },
  {
   "cell_type": "code",
   "execution_count": 462,
   "id": "3c4f7064-72b6-435f-8562-a1f651624ca7",
   "metadata": {},
   "outputs": [],
   "source": [
    "target_columns = control_group.columns[3:]\n",
    "target_means = control_group[target_columns].mean().round(0)\n",
    "control_group.loc[4, target_columns] = control_group.loc[4, target_columns].fillna(target_means)\n",
    "control_group = control_group.astype({col: 'float64' for col in target_columns})\n",
    "#Future versions of pandas will handle the changing of data types differently and it gives a warning letting you know, but the warning is not necessary for this project so i am going to filter it.\n",
    "import warnings\n",
    "warnings.filterwarnings('ignore', category=FutureWarning)"
   ]
  },
  {
   "cell_type": "code",
   "execution_count": 498,
   "id": "7cc327cb-8730-4166-ae18-f18e99376f26",
   "metadata": {},
   "outputs": [
    {
     "name": "stdout",
     "output_type": "stream",
     "text": [
      "      Campaign Name       Date  Spend [USD]  Impressions     Reach  \\\n",
      "0  Control Campaign  1.08.2019         2280      82702.0   56930.0   \n",
      "1  Control Campaign  2.08.2019         1757     121040.0  102513.0   \n",
      "2  Control Campaign  3.08.2019         2343     131711.0  110862.0   \n",
      "3  Control Campaign  4.08.2019         1940      72878.0   61235.0   \n",
      "4  Control Campaign  5.08.2019         1835     109560.0   88845.0   \n",
      "\n",
      "   Website Clicks  Searches  View Content  Add to Cart  Purchase  \n",
      "0          7016.0    2290.0        2159.0       1819.0     618.0  \n",
      "1          8110.0    2033.0        1841.0       1219.0     511.0  \n",
      "2          6508.0    1737.0        1549.0       1134.0     372.0  \n",
      "3          3065.0    1042.0         982.0       1183.0     340.0  \n",
      "4          5321.0    2221.0        1944.0       1300.0     523.0  \n"
     ]
    }
   ],
   "source": [
    "print(control_group.head())"
   ]
  },
  {
   "cell_type": "code",
   "execution_count": 466,
   "id": "c8f36b37-5b07-459e-86d6-233f16bdc8b4",
   "metadata": {},
   "outputs": [],
   "source": [
    "#Great! Now the data is nice and easy to read, and the NaN values have been replaced with the average value for each column.\n",
    "#Now we can start asking some questions. For this example, there are a lot of different approcahes.\n",
    "#But what we want to look at is whether the number of impressions in our test group leads to more purchases than our control group.\n",
    "#So lets get started!\n",
    "#The first thing that we are going to do is establish our baseline conversion rate.\n",
    "#We are going to do that by taking the sum of the total impressions and the sum of total purchases and calculating that as a percentage.\n",
    "#We are not going to use the means (averages) because we want to understand the cumulative effort of total performance."
   ]
  },
  {
   "cell_type": "code",
   "execution_count": 468,
   "id": "012a60f0-caca-469f-a46f-bf435dac005b",
   "metadata": {},
   "outputs": [],
   "source": [
    "control_group_impressions_to_purchases = control_group['Purchase'].sum() / control_group['Impressions'].sum() * 100"
   ]
  },
  {
   "cell_type": "code",
   "execution_count": 470,
   "id": "d1512ea8-4f47-4e01-9705-1336edc97995",
   "metadata": {},
   "outputs": [
    {
     "name": "stdout",
     "output_type": "stream",
     "text": [
      "0.4771824693553869\n"
     ]
    }
   ],
   "source": [
    "print(control_group_impressions_to_purchases)"
   ]
  },
  {
   "cell_type": "code",
   "execution_count": 472,
   "id": "dda65790-1968-4ad9-a0aa-b4404877672b",
   "metadata": {},
   "outputs": [],
   "source": [
    "#So there is our baseline conversion rate as a percent.\n",
    "#Now we have to ask 'What is the minimum increase in our conversion rate to make this new campaign worth the time and money?'\n",
    "#That is known as the Minimum Decetable Effect, or Lift.\n",
    "#This is not a set in stone number and depends on what you or your company is wanting to accomplish. It could be 0.0001% or it could be 50%.\n",
    "#However, since our baseline conversion rate of impressions to purchases is so low (less than .5%) lets say that the MDE will be 2%.\n",
    "#That means that if our Test Group has at least a 2% higher conversion rate, we will consider it a success and run the new campaign.\n",
    "#Now let's calculate the conversion rate for the test group."
   ]
  },
  {
   "cell_type": "code",
   "execution_count": 474,
   "id": "3bf0ba8c-6f2e-4a69-9a6e-1b0088d8b7b6",
   "metadata": {},
   "outputs": [],
   "source": [
    "test_group_impressions_to_purchases = test_group['Purchase'].sum() / test_group['Impressions'].sum() * 100"
   ]
  },
  {
   "cell_type": "code",
   "execution_count": 476,
   "id": "59312ac2-3c91-4cc5-9b6d-bf5250a29400",
   "metadata": {},
   "outputs": [
    {
     "name": "stdout",
     "output_type": "stream",
     "text": [
      "0.6988465925139349\n"
     ]
    }
   ],
   "source": [
    "print(test_group_impressions_to_purchases)"
   ]
  },
  {
   "cell_type": "code",
   "execution_count": 478,
   "id": "f8fc1830-83b8-4072-9751-73f2f2d4f4db",
   "metadata": {},
   "outputs": [
    {
     "name": "stdout",
     "output_type": "stream",
     "text": [
      "0.221664123158548\n"
     ]
    }
   ],
   "source": [
    "#Great. Now lets calculate the absolute difference in percentages for the two campaigns.\n",
    "print(test_group_impressions_to_purchases - control_group_impressions_to_purchases)"
   ]
  },
  {
   "cell_type": "code",
   "execution_count": 488,
   "id": "cb33f2ed-aab2-4c35-83d6-28518eb73125",
   "metadata": {},
   "outputs": [],
   "source": [
    "#Absolutely fantastic! The new campaign blows the old campaign out of the water! We were wanting a .2% MDE, but the actual increase is 22%!\n",
    "#As unbelievable as that seems, lets run another test to make sure that increase is considered stasticically significant and did not occur by chance.\n",
    "#Even though such strong success seems like a no brainer, marketing is expensive, so lets be sure!\n",
    "#We are going to run what is called a z-test to make sure that seemingly wonderful increase in conversion rate wasn't by coincidence or chance."
   ]
  },
  {
   "cell_type": "code",
   "execution_count": 494,
   "id": "acee9ecc-2f3f-439e-9571-7f4424c29112",
   "metadata": {},
   "outputs": [],
   "source": [
    "control_purchases = control_group['Purchase'].sum()\n",
    "test_purchases = test_group['Purchase'].sum()\n",
    "control_impressions = control_group['Impressions'].sum()\n",
    "test_impressions = test_group['Impressions'].sum()\n",
    "purchase_counts = [control_purchases, test_purchases]\n",
    "impression_counts = [control_impressions, test_impressions]"
   ]
  },
  {
   "cell_type": "code",
   "execution_count": 496,
   "id": "6e03ab76-5f79-413d-a1df-7f683b80e3bd",
   "metadata": {},
   "outputs": [
    {
     "name": "stdout",
     "output_type": "stream",
     "text": [
      "2.5966752754680143e-254\n"
     ]
    }
   ],
   "source": [
    "stat, p_value = proportions_ztest(purchase_counts, impression_counts)\n",
    "print(p_value)"
   ]
  },
  {
   "cell_type": "code",
   "execution_count": null,
   "id": "22a3f598-70fb-419d-a4c8-0bb1f5c340f9",
   "metadata": {},
   "outputs": [],
   "source": [
    "#And there we go! A p-value less than .05 is considered stasticially significant, or most likely not by chance!\n",
    "#This seems intuitive, since our increase in conversion rate was 22%, but this test validates our decision to go ahead with our new campaign!\n",
    "#To be specific, we operate under the assumption of the Null Hypothesis.\n",
    "#The Null Hypothesis, in this case is that the new marketing campaign had ZERO impact (positive or negative) on the conversion rate.\n",
    "#What we are testing is our Alternative Hypothesis, which was that the new campaign did have an effect on conversion rate.\n",
    "#If the p-value is above .05 (for standard cases) then we accept the Null hypothesis and say that the new campaign had no effect on the conversion rate.\n",
    "#If the p-value is below .05, we reject the Null Hypothesis (meaning that it is extremely unlikely that the new campaign did have an effect on the conversion rate.\n",
    "#In this case, the p-value was drastically below .05, and since we had a 22% increase in our conversion rate, our new campaign is a go!\n",
    "#Time to get this information to the marketing department and project managers so that we can cash in on our new campaign!"
   ]
  }
 ],
 "metadata": {
  "kernelspec": {
   "display_name": "Python 3 (ipykernel)",
   "language": "python",
   "name": "python3"
  },
  "language_info": {
   "codemirror_mode": {
    "name": "ipython",
    "version": 3
   },
   "file_extension": ".py",
   "mimetype": "text/x-python",
   "name": "python",
   "nbconvert_exporter": "python",
   "pygments_lexer": "ipython3",
   "version": "3.12.7"
  }
 },
 "nbformat": 4,
 "nbformat_minor": 5
}
